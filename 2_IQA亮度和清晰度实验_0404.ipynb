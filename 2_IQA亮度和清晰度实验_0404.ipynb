{
 "cells": [
  {
   "cell_type": "code",
   "execution_count": null,
   "metadata": {},
   "outputs": [],
   "source": [
    "import os\n",
    "import cv2\n",
    "from PIL import Image, ImageStat\n",
    "import matplotlib.pyplot as plt\n",
    "import csv"
   ]
  },
  {
   "cell_type": "code",
   "execution_count": null,
   "metadata": {},
   "outputs": [],
   "source": [
    "class image_IQA():\n",
    "    def __init__(self, img_path):\n",
    "        self.image = cv2.cvtColor(cv2.imread(img_path), cv2.COLOR_BGR2RGB)\n",
    "    \n",
    "    def get_clearness(self):\n",
    "        return cv2.Laplacian(self.image, cv2.CV_64F).var()\n",
    "\n",
    "    def get_brightness(self):\n",
    "        image_pil = Image.fromarray(self.image)\n",
    "        return ImageStat.Stat(image_pil).rms[0]"
   ]
  },
  {
   "cell_type": "code",
   "execution_count": null,
   "metadata": {},
   "outputs": [],
   "source": [
    "def annotation(dst_path, img_name, image, clearness, brightness):\n",
    "    plt.imshow(image)\n",
    "    clr_text = \"clearness:%.2f\"%(clearness)\n",
    "    bri_text = \"brightness:%.2f\"%(brightness)\n",
    "    plt.text(50,300,clr_text,color=\"yellow\",fontsize=16)\n",
    "    plt.text(50,350,bri_text,color=\"yellow\",fontsize=16)\n",
    "    save_path = dst_path + img_name[:-4] + '_annotated.jpg'\n",
    "    plt.savefig(save_path)\n",
    "    plt.close()"
   ]
  },
  {
   "cell_type": "code",
   "execution_count": null,
   "metadata": {},
   "outputs": [],
   "source": [
    "src_path = \"figs/ori_brightness/\"\n",
    "dst_path = \"figs/dst_brightness/\""
   ]
  },
  {
   "cell_type": "code",
   "execution_count": null,
   "metadata": {},
   "outputs": [],
   "source": [
    "with open('exp_data_brightness.csv', mode='w') as csv_file:\n",
    "    writer = csv.writer(csv_file, delimiter=',')\n",
    "    for _, _, files in os.walk(src_path):\n",
    "        files.sort()\n",
    "        for name in files:\n",
    "            img_path = src_path + name\n",
    "            IQA = image_IQA(img_path)\n",
    "            image = IQA.image\n",
    "            clearness = IQA.get_clearness()\n",
    "            brightness = IQA.get_brightness()\n",
    "            annotation(dst_path, name[16:], image, clearness, brightness)\n",
    "            writer.writerow([name[16:], clearness, brightness])"
   ]
  },
  {
   "cell_type": "code",
   "execution_count": null,
   "metadata": {},
   "outputs": [],
   "source": []
  },
  {
   "cell_type": "code",
   "execution_count": null,
   "metadata": {},
   "outputs": [],
   "source": []
  },
  {
   "cell_type": "code",
   "execution_count": null,
   "metadata": {},
   "outputs": [],
   "source": []
  }
 ],
 "metadata": {
  "kernelspec": {
   "display_name": "Python 3",
   "language": "python",
   "name": "python3"
  },
  "language_info": {
   "codemirror_mode": {
    "name": "ipython",
    "version": 3
   },
   "file_extension": ".py",
   "mimetype": "text/x-python",
   "name": "python",
   "nbconvert_exporter": "python",
   "pygments_lexer": "ipython3",
   "version": "3.7.7"
  }
 },
 "nbformat": 4,
 "nbformat_minor": 4
}
