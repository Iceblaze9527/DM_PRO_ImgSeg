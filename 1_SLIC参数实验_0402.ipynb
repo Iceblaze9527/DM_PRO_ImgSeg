{
 "cells": [
  {
   "cell_type": "markdown",
   "metadata": {},
   "source": [
    "## Skimage包"
   ]
  },
  {
   "cell_type": "code",
   "execution_count": null,
   "metadata": {},
   "outputs": [],
   "source": [
    "import os\n",
    "from skimage import io\n",
    "from skimage.segmentation import slic\n",
    "from skimage.segmentation import mark_boundaries\n",
    "import matplotlib.pyplot as plt"
   ]
  },
  {
   "cell_type": "code",
   "execution_count": null,
   "metadata": {},
   "outputs": [],
   "source": [
    "def SLIC_SkImage(img_path, n_segments, compactness, max_iter):\n",
    "    image = io.imread(img_path)\n",
    "    segments = slic(image, n_segments=n_segments, compactness=compactness, max_iter=max_iter)\n",
    "    return mark_boundaries(image, segments)\n",
    "\n",
    "def ImgSeg_SkImage(dir_path, n_segments=100, compactness=10.0, max_iter=10):\n",
    "    for _, _, files in os.walk(dir_path):\n",
    "        files.sort()#\n",
    "        for filename in files:\n",
    "            if (filename != \".DS_Store\"):#\n",
    "                img_path = dir_path + filename\n",
    "                result = SLIC_SkImage(img_path, n_segments, compactness, max_iter)\n",
    "                plt.imshow(result)\n",
    "                save_path = \"resultfigs/\" + filename[:-4] + \"_seg%d_comp%.2f.jpg\"%(n_segments,compactness)\n",
    "                plt.savefig(save_path)"
   ]
  },
  {
   "cell_type": "code",
   "execution_count": null,
   "metadata": {},
   "outputs": [],
   "source": [
    "ImgSeg_SkImage(\"testfigs/pos/\", n_segments=30)\n",
    "ImgSeg_SkImage(\"testfigs/pos/\", n_segments=40)\n",
    "ImgSeg_SkImage(\"testfigs/pos/\", n_segments=50)\n",
    "ImgSeg_SkImage(\"testfigs/pos/\", n_segments=40, compactness=15)\n",
    "ImgSeg_SkImage(\"testfigs/pos/\", n_segments=40, compactness=20)"
   ]
  },
  {
   "cell_type": "markdown",
   "metadata": {},
   "source": [
    "## OpenCV包"
   ]
  },
  {
   "cell_type": "code",
   "execution_count": null,
   "metadata": {},
   "outputs": [],
   "source": [
    "import os\n",
    "import cv2\n",
    "import matplotlib.pyplot as plt"
   ]
  },
  {
   "cell_type": "code",
   "execution_count": null,
   "metadata": {},
   "outputs": [],
   "source": [
    "def SLIC_OpenCV(img_name, algorithm, region_size, ruler, max_iter):\n",
    "    image = cv2.imread(img_name)\n",
    "    image = cv2.cvtColor(image, cv2.COLOR_BGR2RGB)\n",
    "    slic = cv2.ximgproc.createSuperpixelSLIC(image, algorithm = algorithm, region_size = region_size, ruler = ruler) \n",
    "    slic.iterate(max_iter)\n",
    "    \n",
    "    mask_slic = slic.getLabelContourMask()#获取Mask，超像素边缘Mask==1\n",
    "    mask_inv_slic = cv2.bitwise_not(mask_slic)  \n",
    "    label_slic = slic.getLabels()#获取超像素标签\n",
    "    \n",
    "    img_slic = cv2.bitwise_or(src1=image, src2=image, mask=mask_inv_slic) #在原图上绘制超像素边界\n",
    "    \n",
    "    return img_slic\n",
    "\n",
    "\"\"\"\n",
    "cv::ximgproc::SLIC = 100,\n",
    "cv::ximgproc::SLICO = 101,\n",
    "cv::ximgproc::MSLIC = 102 \n",
    "\"\"\"\n",
    "\n",
    "def ImgSeg_OpenCV(src_dir, dst_dir, algorithm=101, region_size=20, ruler=20.0, max_iter=10):\n",
    "    for _, _, files in os.walk(src_dir):\n",
    "        files.sort()#\n",
    "        for filename in files:\n",
    "            if (filename != \".DS_Store\"):#\n",
    "                img_name = src_dir + filename\n",
    "                result = SLIC_OpenCV(img_name, algorithm, region_size, ruler, max_iter)\n",
    "                result = cv2.cvtColor(result, cv2.COLOR_BGR2RGB) \n",
    "                save_path = dst_dir + filename[:-4] + \"_algo%d_regsize%d_ruler%.1f.jpg\"%(algorithm,region_size,ruler)\n",
    "                cv2.imwrite(save_path,result)"
   ]
  },
  {
   "cell_type": "code",
   "execution_count": null,
   "metadata": {},
   "outputs": [],
   "source": [
    "ImgSeg_OpenCV(path, algorithm = 100, region_size=30, ruler=40)#SLIC\n",
    "ImgSeg_OpenCV(path, algorithm = 100, region_size=40, ruler=40)#SLIC\n",
    "ImgSeg_OpenCV(path, algorithm = 100, region_size=50, ruler=40)#SLIC\n",
    "ImgSeg_OpenCV(path, algorithm = 100, region_size=30, ruler=50)#SLIC\n",
    "ImgSeg_OpenCV(path, algorithm = 100, region_size=40, ruler=50)#SLIC\n",
    "ImgSeg_OpenCV(path, algorithm = 100, region_size=50, ruler=50)#SLIC"
   ]
  },
  {
   "cell_type": "code",
   "execution_count": null,
   "metadata": {},
   "outputs": [],
   "source": [
    "ImgSeg_OpenCV(path, algorithm = 102, region_size=40, ruler=40)#MSLIC\n",
    "ImgSeg_OpenCV(path, algorithm = 102, region_size=50, ruler=40)#MSLIC\n",
    "ImgSeg_OpenCV(path, algorithm = 102, region_size=30, ruler=50)#MSLIC\n",
    "ImgSeg_OpenCV(path, algorithm = 102, region_size=40, ruler=50)#MSLIC"
   ]
  }
 ],
 "metadata": {
  "kernelspec": {
   "display_name": "Python 3",
   "language": "python",
   "name": "python3"
  },
  "language_info": {
   "codemirror_mode": {
    "name": "ipython",
    "version": 3
   },
   "file_extension": ".py",
   "mimetype": "text/x-python",
   "name": "python",
   "nbconvert_exporter": "python",
   "pygments_lexer": "ipython3",
   "version": "3.7.7"
  }
 },
 "nbformat": 4,
 "nbformat_minor": 4
}
