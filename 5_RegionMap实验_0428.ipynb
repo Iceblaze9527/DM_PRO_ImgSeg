{
 "cells": [
  {
   "cell_type": "code",
   "execution_count": 1,
   "metadata": {},
   "outputs": [],
   "source": [
    "import os\n",
    "import cv2\n",
    "import numpy as np\n",
    "import csv\n",
    "from re import findall\n",
    "import matplotlib.pyplot as plt\n",
    "from matplotlib import colors"
   ]
  },
  {
   "cell_type": "code",
   "execution_count": 2,
   "metadata": {},
   "outputs": [],
   "source": [
    "class ImgSegSLIC():\n",
    "    def __init__(self, src_path, ref_path, algorithm, region_size, ruler, max_iter, min_element_size):\n",
    "        self.src_path = src_path\n",
    "        self.ref_path = ref_path\n",
    "        self.algorithm = algorithm\n",
    "        self.region_size = region_size\n",
    "        self.ruler = ruler\n",
    "        self.max_iter = max_iter\n",
    "        self.min_element_size = min_element_size\n",
    "        \n",
    "        self.image_src = cv2.cvtColor(cv2.imread(src_path), cv2.COLOR_BGR2RGB)\n",
    "        self.image_ref = cv2.cvtColor(cv2.imread(ref_path), cv2.COLOR_BGR2RGB)\n",
    "        \n",
    "        self.SLIC()\n",
    "        \n",
    "    def SLIC(self):\n",
    "        slic = cv2.ximgproc.createSuperpixelSLIC(self.image_src, self.algorithm, self.region_size, self.ruler) \n",
    "        slic.iterate(self.max_iter)\n",
    "        slic.enforceLabelConnectivity(self.min_element_size)\n",
    "        slic_inv_mask = cv2.bitwise_not(slic.getLabelContourMask())\n",
    "        \n",
    "        self.labels = slic.getLabels()\n",
    "        self.num_label = slic.getNumberOfSuperpixels()         \n",
    "        self.image_contour = cv2.bitwise_or(src1=self.image_ref, src2=self.image_ref, mask=slic_inv_mask)\n",
    "    \n",
    "    def seg_stats(self, serial, image_masked, mask, writer):\n",
    "        means, stds = cv2.meanStdDev(image_masked, mask=mask)\n",
    "        m1, m2, m3 = np.around(means,4)\n",
    "        s1, s2, s3 = np.around(stds,4)\n",
    "        writer.writerow([serial, m1[0], m2[0], m3[0], s1[0], s2[0], s3[0]])\n",
    "        return means, stds\n",
    "    \n",
    "    def find_threshold(self, out_path):   \n",
    "        plt.figure(figsize = (16,12))\n",
    "        plt.imshow(self.image_contour)\n",
    "        \n",
    "        file_rgb = out_path + ''.join(findall('\\d',self.src_path)) + '_rgb' + '.csv'\n",
    "        rgb_csv = open(file_rgb, mode='w')\n",
    "        rgb_writer = csv.writer(rgb_csv, delimiter=',')\n",
    "        rgb_writer.writerow(['serial','R_mean','G_mean','B_mean','R_std','G_std','B_std'])\n",
    "        \n",
    "        file_lab = out_path + ''.join(findall('\\d',self.src_path)) + '_lab' + '.csv'\n",
    "        lab_csv = open(file_lab, mode='w')\n",
    "        lab_writer = csv.writer(lab_csv, delimiter=',')\n",
    "        lab_writer.writerow(['serial','L_mean','A_mean','B_mean','L_std','A_std','B_std'])\n",
    "        \n",
    "        file_hsv = out_path + ''.join(findall('\\d',self.src_path)) + '_hsv' + '.csv'\n",
    "        hsv_csv = open(file_hsv, mode='w')\n",
    "        hsv_writer = csv.writer(hsv_csv, delimiter=',')\n",
    "        hsv_writer.writerow(['serial','H_mean','S_mean','V_mean','H_std','S_std','V_std'])\n",
    "                \n",
    "        for i in range(self.num_label):\n",
    "            label_mask = (np.where(self.labels==i,1,0)).astype(np.uint8)\n",
    "\n",
    "            image_masked_rgb = cv2.bitwise_and(self.image_src, self.image_src, mask=label_mask)\n",
    "            image_masked_lab = cv2.cvtColor(image_masked_rgb,cv2.COLOR_RGB2LAB)\n",
    "            image_masked_hsv = cv2.cvtColor(image_masked_rgb,cv2.COLOR_RGB2HSV)\n",
    "            \n",
    "            means_rgb, stats_rgb = self.seg_stats(i, image_masked_rgb, label_mask, rgb_writer)\n",
    "            self.seg_stats(i, image_masked_lab, label_mask, lab_writer)\n",
    "            self.seg_stats(i, image_masked_hsv, label_mask, hsv_writer)\n",
    "            \n",
    "            label_moments = cv2.moments(label_mask, binaryImage = True)\n",
    "            label_centroid_x = int(label_moments[\"m10\"] / label_moments[\"m00\"])\n",
    "            label_centroid_y = int(label_moments[\"m01\"] / label_moments[\"m00\"])\n",
    "\n",
    "            rm, gm, bm = means_rgb\n",
    "            text_color = colors.to_rgb(tuple([(255-rm[0])/255, (255-gm[0])/255, (255-bm[0])/255])) \n",
    "            plt.annotate(str(i),(label_centroid_x,label_centroid_y),color=text_color)\n",
    "               \n",
    "        file_annotation = out_path + ''.join(findall('\\d',self.src_path)) + '_annotation' + '.jpg'\n",
    "        plt.savefig(file_annotation)\n",
    "        plt.close()\n",
    "        \n",
    "        rgb_csv.close()\n",
    "        lab_csv.close()\n",
    "        hsv_csv.close()"
   ]
  },
  {
   "cell_type": "code",
   "execution_count": 3,
   "metadata": {},
   "outputs": [],
   "source": [
    "src_path = \"region_map_ori/\"\n",
    "ref_path = \"region_map_ref/\"\n",
    "out_path = \"region_map_result_data/\""
   ]
  },
  {
   "cell_type": "code",
   "execution_count": 4,
   "metadata": {},
   "outputs": [],
   "source": [
    "for _, _, files_src in os.walk(src_path):\n",
    "    files_src.sort()\n",
    "\n",
    "for _, _, files_ref in os.walk(ref_path):\n",
    "    files_ref.sort()\n",
    "    \n",
    "for src_name in files_src:\n",
    "    for ref_name in files_ref:\n",
    "        src_idx = ''.join(findall('\\d',src_name))\n",
    "        ref_idx = ''.join(findall('\\d',ref_name))\n",
    "        \n",
    "        if src_idx == ref_idx:\n",
    "            Seg = ImgSegSLIC(src_path + src_name, ref_path + ref_name, algorithm=100, region_size=20, ruler=20.0, max_iter=10, min_element_size=40)\n",
    "            Seg.find_threshold(out_path)"
   ]
  },
  {
   "cell_type": "code",
   "execution_count": null,
   "metadata": {},
   "outputs": [],
   "source": [
    "pred_path = 'region_map_result/'\n",
    "merge_path = 'region_map_result_merged/'"
   ]
  },
  {
   "cell_type": "code",
   "execution_count": null,
   "metadata": {},
   "outputs": [],
   "source": [
    "for _, _, files_ref in os.walk(ref_path):\n",
    "    files_ref.sort()\n",
    "\n",
    "for _, dirs, files_pred in os.walk(pred_path):\n",
    "    files_pred.sort()\n",
    "\n",
    "for ref_name in files_ref:\n",
    "    img_ref = cv2.imread(ref_path + ref_name)\n",
    "    for pred_name in files_pred:\n",
    "        if pred_name[:4] == ref_name[:4]:\n",
    "            img_pred = cv2.imread(pred_path + pred_name)\n",
    "            img_merged = cv2.addWeighted(img_ref, 0.5, img_pred, 0.5, 0) \n",
    "            cv2.imwrite(merge_path + 'merged_' + pred_name, img_merged)"
   ]
  }
 ],
 "metadata": {
  "kernelspec": {
   "display_name": "Python 3",
   "language": "python",
   "name": "python3"
  },
  "language_info": {
   "codemirror_mode": {
    "name": "ipython",
    "version": 3
   },
   "file_extension": ".py",
   "mimetype": "text/x-python",
   "name": "python",
   "nbconvert_exporter": "python",
   "pygments_lexer": "ipython3",
   "version": "3.7.7"
  }
 },
 "nbformat": 4,
 "nbformat_minor": 4
}
